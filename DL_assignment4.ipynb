{
 "cells": [
  {
   "cell_type": "code",
   "execution_count": 1,
   "id": "9f21300e",
   "metadata": {},
   "outputs": [
    {
     "name": "stdout",
     "output_type": "stream",
     "text": [
      "WARNING:tensorflow:From C:\\Users\\Shruthi\\anaconda3\\Lib\\site-packages\\keras\\src\\losses.py:2976: The name tf.losses.sparse_softmax_cross_entropy is deprecated. Please use tf.compat.v1.losses.sparse_softmax_cross_entropy instead.\n",
      "\n"
     ]
    }
   ],
   "source": [
    "import numpy as np\n",
    "import pandas as pd\n",
    "import tensorflow as tf\n",
    "from tensorflow.keras.layers import Input, Dense\n",
    "from tensorflow.keras.models import Model\n",
    "from sklearn.model_selection import train_test_split\n",
    "import matplotlib.pyplot as plt"
   ]
  },
  {
   "cell_type": "code",
   "execution_count": 4,
   "id": "bb874f60",
   "metadata": {},
   "outputs": [],
   "source": [
    "ratings = tf.keras.utils.get_file('ratings.csv', 'http://files.grouplens.org/datasets/movielens/ml-100k/u.data')\n",
    "movies = tf.keras.utils.get_file('movies.csv', 'http://files.grouplens.org/datasets/movielens/ml-100k/u.item')\n",
    "\n",
    "ratings_data = np.loadtxt(ratings, delimiter='\\t')\n",
    "movies_data = [line.decode('ISO-8859-1').split('|') for line in open(movies, 'rb').readlines()]\n",
    "\n",
    "num_users = int(max(ratings_data[:, 0]))\n",
    "num_movies = int(max(ratings_data[:, 1]))"
   ]
  },
  {
   "cell_type": "code",
   "execution_count": 5,
   "id": "7fff33ad",
   "metadata": {},
   "outputs": [],
   "source": [
    "user_item_matrix = np.zeros((num_users, num_movies))\n",
    "for line in ratings_data:\n",
    "    user_item_matrix[int(line[0]) - 1][int(line[1]) - 1] = line[2]\n"
   ]
  },
  {
   "cell_type": "code",
   "execution_count": 7,
   "id": "86ea8f26",
   "metadata": {},
   "outputs": [],
   "source": [
    "train_data, test_data = train_test_split(user_item_matrix, test_size=0.2, random_state=42)"
   ]
  },
  {
   "cell_type": "code",
   "execution_count": 8,
   "id": "e5a0c0be",
   "metadata": {},
   "outputs": [
    {
     "name": "stdout",
     "output_type": "stream",
     "text": [
      "WARNING:tensorflow:From C:\\Users\\Shruthi\\anaconda3\\Lib\\site-packages\\keras\\src\\backend.py:1398: The name tf.executing_eagerly_outside_functions is deprecated. Please use tf.compat.v1.executing_eagerly_outside_functions instead.\n",
      "\n",
      "WARNING:tensorflow:From C:\\Users\\Shruthi\\anaconda3\\Lib\\site-packages\\keras\\src\\optimizers\\__init__.py:309: The name tf.train.Optimizer is deprecated. Please use tf.compat.v1.train.Optimizer instead.\n",
      "\n"
     ]
    }
   ],
   "source": [
    "visible = Input(shape=(num_movies,))\n",
    "hidden1 = Dense(512, activation='sigmoid')(visible)\n",
    "hidden2 = Dense(256, activation='sigmoid')(hidden1)\n",
    "hidden3 = Dense(128, activation='sigmoid')(hidden2)\n",
    "visible_reconstructed = Dense(num_movies, activation='sigmoid')(hidden3)\n",
    "\n",
    "dbm = Model(inputs=visible, outputs=visible_reconstructed)\n",
    "dbm.compile(optimizer='adam', loss='mean_squared_error')"
   ]
  },
  {
   "cell_type": "code",
   "execution_count": 9,
   "id": "0d439a94",
   "metadata": {},
   "outputs": [
    {
     "name": "stdout",
     "output_type": "stream",
     "text": [
      "Epoch 1/100\n",
      "WARNING:tensorflow:From C:\\Users\\Shruthi\\anaconda3\\Lib\\site-packages\\keras\\src\\utils\\tf_utils.py:492: The name tf.ragged.RaggedTensorValue is deprecated. Please use tf.compat.v1.ragged.RaggedTensorValue instead.\n",
      "\n",
      "22/22 [==============================] - 1s 19ms/step - loss: 0.8014 - val_loss: 0.6747\n",
      "Epoch 2/100\n",
      "22/22 [==============================] - 0s 13ms/step - loss: 0.7330 - val_loss: 0.6705\n",
      "Epoch 3/100\n",
      "22/22 [==============================] - 0s 14ms/step - loss: 0.7306 - val_loss: 0.6707\n",
      "Epoch 4/100\n",
      "22/22 [==============================] - 0s 14ms/step - loss: 0.7300 - val_loss: 0.6698\n",
      "Epoch 5/100\n",
      "22/22 [==============================] - 0s 14ms/step - loss: 0.7296 - val_loss: 0.6697\n",
      "Epoch 6/100\n",
      "22/22 [==============================] - 0s 15ms/step - loss: 0.7298 - val_loss: 0.6700\n",
      "Epoch 7/100\n",
      "22/22 [==============================] - 0s 13ms/step - loss: 0.7296 - val_loss: 0.6699\n",
      "Epoch 8/100\n",
      "22/22 [==============================] - 0s 14ms/step - loss: 0.7298 - val_loss: 0.6699\n",
      "Epoch 9/100\n",
      "22/22 [==============================] - 0s 13ms/step - loss: 0.7294 - val_loss: 0.6704\n",
      "Epoch 10/100\n",
      "22/22 [==============================] - 0s 13ms/step - loss: 0.7296 - val_loss: 0.6695\n",
      "Epoch 11/100\n",
      "22/22 [==============================] - 0s 15ms/step - loss: 0.7293 - val_loss: 0.6700\n",
      "Epoch 12/100\n",
      "22/22 [==============================] - 0s 16ms/step - loss: 0.7292 - val_loss: 0.6687\n",
      "Epoch 13/100\n",
      "22/22 [==============================] - 0s 13ms/step - loss: 0.7284 - val_loss: 0.6686\n",
      "Epoch 14/100\n",
      "22/22 [==============================] - 0s 14ms/step - loss: 0.7268 - val_loss: 0.6667\n",
      "Epoch 15/100\n",
      "22/22 [==============================] - 0s 13ms/step - loss: 0.7255 - val_loss: 0.6650\n",
      "Epoch 16/100\n",
      "22/22 [==============================] - 0s 13ms/step - loss: 0.7233 - val_loss: 0.6627\n",
      "Epoch 17/100\n",
      "22/22 [==============================] - 0s 13ms/step - loss: 0.7196 - val_loss: 0.6589\n",
      "Epoch 18/100\n",
      "22/22 [==============================] - 0s 13ms/step - loss: 0.7132 - val_loss: 0.6522\n",
      "Epoch 19/100\n",
      "22/22 [==============================] - 0s 14ms/step - loss: 0.7057 - val_loss: 0.6457\n",
      "Epoch 20/100\n",
      "22/22 [==============================] - 0s 14ms/step - loss: 0.6991 - val_loss: 0.6397\n",
      "Epoch 21/100\n",
      "22/22 [==============================] - 0s 15ms/step - loss: 0.6931 - val_loss: 0.6342\n",
      "Epoch 22/100\n",
      "22/22 [==============================] - 0s 15ms/step - loss: 0.6879 - val_loss: 0.6300\n",
      "Epoch 23/100\n",
      "22/22 [==============================] - 0s 14ms/step - loss: 0.6836 - val_loss: 0.6271\n",
      "Epoch 24/100\n",
      "22/22 [==============================] - 0s 16ms/step - loss: 0.6802 - val_loss: 0.6233\n",
      "Epoch 25/100\n",
      "22/22 [==============================] - 0s 15ms/step - loss: 0.6773 - val_loss: 0.6212\n",
      "Epoch 26/100\n",
      "22/22 [==============================] - 0s 14ms/step - loss: 0.6744 - val_loss: 0.6191\n",
      "Epoch 27/100\n",
      "22/22 [==============================] - 0s 14ms/step - loss: 0.6722 - val_loss: 0.6179\n",
      "Epoch 28/100\n",
      "22/22 [==============================] - 0s 17ms/step - loss: 0.6707 - val_loss: 0.6164\n",
      "Epoch 29/100\n",
      "22/22 [==============================] - 0s 15ms/step - loss: 0.6695 - val_loss: 0.6158\n",
      "Epoch 30/100\n",
      "22/22 [==============================] - 0s 11ms/step - loss: 0.6681 - val_loss: 0.6147\n",
      "Epoch 31/100\n",
      "22/22 [==============================] - 0s 13ms/step - loss: 0.6670 - val_loss: 0.6140\n",
      "Epoch 32/100\n",
      "22/22 [==============================] - 0s 12ms/step - loss: 0.6661 - val_loss: 0.6135\n",
      "Epoch 33/100\n",
      "22/22 [==============================] - 0s 11ms/step - loss: 0.6653 - val_loss: 0.6124\n",
      "Epoch 34/100\n",
      "22/22 [==============================] - 0s 11ms/step - loss: 0.6645 - val_loss: 0.6122\n",
      "Epoch 35/100\n",
      "22/22 [==============================] - 0s 11ms/step - loss: 0.6639 - val_loss: 0.6118\n",
      "Epoch 36/100\n",
      "22/22 [==============================] - 0s 12ms/step - loss: 0.6631 - val_loss: 0.6109\n",
      "Epoch 37/100\n",
      "22/22 [==============================] - 0s 13ms/step - loss: 0.6619 - val_loss: 0.6100\n",
      "Epoch 38/100\n",
      "22/22 [==============================] - 0s 18ms/step - loss: 0.6604 - val_loss: 0.6089\n",
      "Epoch 39/100\n",
      "22/22 [==============================] - 0s 18ms/step - loss: 0.6590 - val_loss: 0.6078\n",
      "Epoch 40/100\n",
      "22/22 [==============================] - 0s 15ms/step - loss: 0.6578 - val_loss: 0.6065\n",
      "Epoch 41/100\n",
      "22/22 [==============================] - 1s 24ms/step - loss: 0.6566 - val_loss: 0.6054\n",
      "Epoch 42/100\n",
      "22/22 [==============================] - 0s 13ms/step - loss: 0.6554 - val_loss: 0.6049\n",
      "Epoch 43/100\n",
      "22/22 [==============================] - 0s 13ms/step - loss: 0.6543 - val_loss: 0.6043\n",
      "Epoch 44/100\n",
      "22/22 [==============================] - 0s 16ms/step - loss: 0.6534 - val_loss: 0.6036\n",
      "Epoch 45/100\n",
      "22/22 [==============================] - 0s 18ms/step - loss: 0.6525 - val_loss: 0.6027\n",
      "Epoch 46/100\n",
      "22/22 [==============================] - 0s 17ms/step - loss: 0.6515 - val_loss: 0.6025\n",
      "Epoch 47/100\n",
      "22/22 [==============================] - 0s 17ms/step - loss: 0.6508 - val_loss: 0.6017\n",
      "Epoch 48/100\n",
      "22/22 [==============================] - 0s 19ms/step - loss: 0.6499 - val_loss: 0.6020\n",
      "Epoch 49/100\n",
      "22/22 [==============================] - 0s 22ms/step - loss: 0.6491 - val_loss: 0.6012\n",
      "Epoch 50/100\n",
      "22/22 [==============================] - 0s 18ms/step - loss: 0.6481 - val_loss: 0.6004\n",
      "Epoch 51/100\n",
      "22/22 [==============================] - 0s 16ms/step - loss: 0.6473 - val_loss: 0.6003\n",
      "Epoch 52/100\n",
      "22/22 [==============================] - 0s 16ms/step - loss: 0.6466 - val_loss: 0.5994\n",
      "Epoch 53/100\n",
      "22/22 [==============================] - 0s 18ms/step - loss: 0.6458 - val_loss: 0.5991\n",
      "Epoch 54/100\n",
      "22/22 [==============================] - 0s 16ms/step - loss: 0.6450 - val_loss: 0.5983\n",
      "Epoch 55/100\n",
      "22/22 [==============================] - 0s 14ms/step - loss: 0.6443 - val_loss: 0.5985\n",
      "Epoch 56/100\n",
      "22/22 [==============================] - 0s 14ms/step - loss: 0.6435 - val_loss: 0.5978\n",
      "Epoch 57/100\n",
      "22/22 [==============================] - 0s 16ms/step - loss: 0.6429 - val_loss: 0.5974\n",
      "Epoch 58/100\n",
      "22/22 [==============================] - 0s 12ms/step - loss: 0.6422 - val_loss: 0.5970\n",
      "Epoch 59/100\n",
      "22/22 [==============================] - 0s 12ms/step - loss: 0.6416 - val_loss: 0.5963\n",
      "Epoch 60/100\n",
      "22/22 [==============================] - 0s 13ms/step - loss: 0.6409 - val_loss: 0.5962\n",
      "Epoch 61/100\n",
      "22/22 [==============================] - 0s 13ms/step - loss: 0.6403 - val_loss: 0.5958\n",
      "Epoch 62/100\n",
      "22/22 [==============================] - 0s 13ms/step - loss: 0.6396 - val_loss: 0.5955\n",
      "Epoch 63/100\n",
      "22/22 [==============================] - 0s 13ms/step - loss: 0.6390 - val_loss: 0.5950\n",
      "Epoch 64/100\n",
      "22/22 [==============================] - 0s 12ms/step - loss: 0.6384 - val_loss: 0.5950\n",
      "Epoch 65/100\n",
      "22/22 [==============================] - 0s 14ms/step - loss: 0.6378 - val_loss: 0.5942\n",
      "Epoch 66/100\n",
      "22/22 [==============================] - 0s 13ms/step - loss: 0.6372 - val_loss: 0.5938\n",
      "Epoch 67/100\n",
      "22/22 [==============================] - 0s 12ms/step - loss: 0.6366 - val_loss: 0.5935\n",
      "Epoch 68/100\n",
      "22/22 [==============================] - 0s 13ms/step - loss: 0.6361 - val_loss: 0.5934\n",
      "Epoch 69/100\n",
      "22/22 [==============================] - 0s 14ms/step - loss: 0.6356 - val_loss: 0.5928\n",
      "Epoch 70/100\n",
      "22/22 [==============================] - 0s 13ms/step - loss: 0.6350 - val_loss: 0.5929\n",
      "Epoch 71/100\n",
      "22/22 [==============================] - 0s 14ms/step - loss: 0.6344 - val_loss: 0.5922\n",
      "Epoch 72/100\n",
      "22/22 [==============================] - 0s 11ms/step - loss: 0.6337 - val_loss: 0.5919\n",
      "Epoch 73/100\n",
      "22/22 [==============================] - 0s 12ms/step - loss: 0.6331 - val_loss: 0.5914\n",
      "Epoch 74/100\n",
      "22/22 [==============================] - 0s 14ms/step - loss: 0.6324 - val_loss: 0.5910\n",
      "Epoch 75/100\n",
      "22/22 [==============================] - 0s 15ms/step - loss: 0.6318 - val_loss: 0.5905\n",
      "Epoch 76/100\n",
      "22/22 [==============================] - 0s 13ms/step - loss: 0.6311 - val_loss: 0.5900\n",
      "Epoch 77/100\n",
      "22/22 [==============================] - 0s 13ms/step - loss: 0.6305 - val_loss: 0.5896\n",
      "Epoch 78/100\n",
      "22/22 [==============================] - 0s 12ms/step - loss: 0.6299 - val_loss: 0.5890\n",
      "Epoch 79/100\n",
      "22/22 [==============================] - 0s 13ms/step - loss: 0.6293 - val_loss: 0.5892\n",
      "Epoch 80/100\n",
      "22/22 [==============================] - 0s 13ms/step - loss: 0.6288 - val_loss: 0.5883\n",
      "Epoch 81/100\n",
      "22/22 [==============================] - 0s 13ms/step - loss: 0.6282 - val_loss: 0.5875\n",
      "Epoch 82/100\n",
      "22/22 [==============================] - 0s 16ms/step - loss: 0.6278 - val_loss: 0.5883\n",
      "Epoch 83/100\n",
      "22/22 [==============================] - 0s 15ms/step - loss: 0.6272 - val_loss: 0.5871\n",
      "Epoch 84/100\n",
      "22/22 [==============================] - 1s 24ms/step - loss: 0.6265 - val_loss: 0.5870\n",
      "Epoch 85/100\n",
      "22/22 [==============================] - 0s 19ms/step - loss: 0.6259 - val_loss: 0.5864\n",
      "Epoch 86/100\n",
      "22/22 [==============================] - 0s 16ms/step - loss: 0.6252 - val_loss: 0.5864\n",
      "Epoch 87/100\n",
      "22/22 [==============================] - 0s 14ms/step - loss: 0.6247 - val_loss: 0.5857\n",
      "Epoch 88/100\n",
      "22/22 [==============================] - 0s 20ms/step - loss: 0.6242 - val_loss: 0.5856\n",
      "Epoch 89/100\n",
      "22/22 [==============================] - 1s 30ms/step - loss: 0.6238 - val_loss: 0.5856\n",
      "Epoch 90/100\n",
      "22/22 [==============================] - 0s 18ms/step - loss: 0.6233 - val_loss: 0.5851\n",
      "Epoch 91/100\n",
      "22/22 [==============================] - 0s 17ms/step - loss: 0.6228 - val_loss: 0.5851\n",
      "Epoch 92/100\n",
      "22/22 [==============================] - 0s 13ms/step - loss: 0.6224 - val_loss: 0.5850\n",
      "Epoch 93/100\n",
      "22/22 [==============================] - 0s 18ms/step - loss: 0.6220 - val_loss: 0.5848\n",
      "Epoch 94/100\n",
      "22/22 [==============================] - 0s 15ms/step - loss: 0.6215 - val_loss: 0.5847\n",
      "Epoch 95/100\n",
      "22/22 [==============================] - 0s 22ms/step - loss: 0.6211 - val_loss: 0.5847\n",
      "Epoch 96/100\n",
      "22/22 [==============================] - 0s 18ms/step - loss: 0.6207 - val_loss: 0.5840\n",
      "Epoch 97/100\n",
      "22/22 [==============================] - 0s 13ms/step - loss: 0.6202 - val_loss: 0.5841\n",
      "Epoch 98/100\n",
      "22/22 [==============================] - 0s 13ms/step - loss: 0.6197 - val_loss: 0.5838\n",
      "Epoch 99/100\n",
      "22/22 [==============================] - 0s 13ms/step - loss: 0.6191 - val_loss: 0.5840\n",
      "Epoch 100/100\n",
      "22/22 [==============================] - 0s 13ms/step - loss: 0.6187 - val_loss: 0.5834\n"
     ]
    }
   ],
   "source": [
    "history = dbm.fit(train_data, train_data, epochs=100, batch_size=32, validation_split=0.1)\n"
   ]
  },
  {
   "cell_type": "code",
   "execution_count": 10,
   "id": "fc28e6e2",
   "metadata": {},
   "outputs": [],
   "source": [
    "train_loss = history.history['loss']\n",
    "val_loss = history.history['val_loss']\n",
    "epochs = range(1, len(train_loss) + 1)"
   ]
  },
  {
   "cell_type": "code",
   "execution_count": 11,
   "id": "39bc6d65",
   "metadata": {},
   "outputs": [
    {
     "data": {
      "text/plain": [
       "<Figure size 1000x500 with 0 Axes>"
      ]
     },
     "execution_count": 11,
     "metadata": {},
     "output_type": "execute_result"
    },
    {
     "data": {
      "text/plain": [
       "<Figure size 1000x500 with 0 Axes>"
      ]
     },
     "metadata": {},
     "output_type": "display_data"
    }
   ],
   "source": [
    "plt.figure(figsize=(10, 5))"
   ]
  },
  {
   "cell_type": "code",
   "execution_count": 12,
   "id": "1ad52c6c",
   "metadata": {},
   "outputs": [
    {
     "data": {
      "image/png": "[encoded data removed]",
      "text/plain": [
       "<Figure size 640x480 with 1 Axes>"
      ]
     },
     "metadata": {},
     "output_type": "display_data"
    }
   ],
   "source": [
    "plt.subplot(1, 2, 1)\n",
    "plt.plot(epochs, train_loss, 'bo', label='Training loss')\n",
    "plt.plot(epochs, val_loss, 'b', label='Validation loss')\n",
    "plt.title('Training and validation loss')\n",
    "plt.xlabel('Epochs')\n",
    "plt.ylabel('Loss')\n",
    "plt.legend()\n",
    "\n",
    "plt.show()\n"
   ]
  },
  {
   "cell_type": "code",
   "execution_count": 13,
   "id": "a1500c42",
   "metadata": {},
   "outputs": [
    {
     "name": "stdout",
     "output_type": "stream",
     "text": [
      "1/1 [==============================] - 0s 104ms/step\n"
     ]
    }
   ],
   "source": [
    "user_id = 1\n",
    "user_ratings = train_data[user_id - 1]\n",
    "\n",
    "predicted_ratings = dbm.predict(np.array([user_ratings]))"
   ]
  },
  {
   "cell_type": "code",
   "execution_count": 17,
   "id": "ae015e22",
   "metadata": {},
   "outputs": [],
   "source": [
    "num_recommendations = 6\n",
    "recommended_movie_indices = np.argsort(predicted_ratings[0])[::-1][:num_recommendations]"
   ]
  },
  {
   "cell_type": "code",
   "execution_count": 18,
   "id": "55914365",
   "metadata": {},
   "outputs": [
    {
     "name": "stdout",
     "output_type": "stream",
     "text": [
      "Recommended movies for User 1\n",
      "1. Air Force One (1997)\n",
      "2. Scream (1996)\n",
      "3. Contact (1997)\n",
      "4. Titanic (1997)\n",
      "5. English Patient, The (1996)\n",
      "6. Liar Liar (1997)\n"
     ]
    }
   ],
   "source": [
    "print(\"Recommended movies for User\", user_id)\n",
    "for i, index in enumerate(recommended_movie_indices):\n",
    "    movie_title = movies_data[index][1]\n",
    "    print(f\"{i + 1}. {movie_title}\")"
   ]
  },
  {
   "cell_type": "code",
   "execution_count": null,
   "id": "46a948b2",
   "metadata": {},
   "outputs": [],
   "source": []
  }
 ],
 "metadata": {
  "kernelspec": {
   "display_name": "Python 3 (ipykernel)",
   "language": "python",
   "name": "python3"
  },
  "language_info": {
   "codemirror_mode": {
    "name": "ipython",
    "version": 3
   },
   "file_extension": ".py",
   "mimetype": "text/x-python",
   "name": "python",
   "nbconvert_exporter": "python",
   "pygments_lexer": "ipython3",
   "version": "3.11.5"
  }
 },
 "nbformat": 4,
 "nbformat_minor": 5
}
