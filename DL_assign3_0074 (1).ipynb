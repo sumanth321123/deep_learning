{
 "cells": [
  {
   "cell_type": "code",
   "execution_count": null,
   "id": "003e08dd",
   "metadata": {},
   "outputs": [],
   "source": [
    "                                                DEEP-LEARNING\n",
    "                                                ASSIGNMENT-3\n",
    "T.V.S.SUMANTH\n",
    "VU21CSEN0500074\n",
    "CSE-DS"
   ]
  },
  {
   "cell_type": "code",
   "execution_count": 1,
   "id": "372d84d0",
   "metadata": {
    "scrolled": false
   },
   "outputs": [
    {
     "name": "stdout",
     "output_type": "stream",
     "text": [
      "WARNING:tensorflow:From C:\\Users\\T.sumanth\\AppData\\Local\\Programs\\Python\\Python310\\lib\\site-packages\\keras\\src\\losses.py:2976: The name tf.losses.sparse_softmax_cross_entropy is deprecated. Please use tf.compat.v1.losses.sparse_softmax_cross_entropy instead.\n",
      "\n",
      "WARNING:tensorflow:From C:\\Users\\T.sumanth\\AppData\\Local\\Programs\\Python\\Python310\\lib\\site-packages\\keras\\src\\backend.py:873: The name tf.get_default_graph is deprecated. Please use tf.compat.v1.get_default_graph instead.\n",
      "\n",
      "WARNING:tensorflow:From C:\\Users\\T.sumanth\\AppData\\Local\\Programs\\Python\\Python310\\lib\\site-packages\\keras\\src\\optimizers\\__init__.py:309: The name tf.train.Optimizer is deprecated. Please use tf.compat.v1.train.Optimizer instead.\n",
      "\n"
     ]
    },
    {
     "name": "stderr",
     "output_type": "stream",
     "text": [
      "C:\\Users\\T.sumanth\\AppData\\Local\\Programs\\Python\\Python310\\lib\\site-packages\\keras\\src\\engine\\data_adapter.py:1808: FutureWarning: The behavior of `series[i:j]` with an integer-dtype index is deprecated. In a future version, this will be treated as *label-based* indexing, consistent with e.g. `series[i]` lookups. To retain the old behavior, use `series.iloc[i:j]`. To get the future behavior, use `series.loc[i:j]`.\n",
      "  return t[start:end]\n"
     ]
    },
    {
     "name": "stdout",
     "output_type": "stream",
     "text": [
      "Epoch 1/10\n",
      "WARNING:tensorflow:From C:\\Users\\T.sumanth\\AppData\\Local\\Programs\\Python\\Python310\\lib\\site-packages\\keras\\src\\utils\\tf_utils.py:492: The name tf.ragged.RaggedTensorValue is deprecated. Please use tf.compat.v1.ragged.RaggedTensorValue instead.\n",
      "\n",
      "WARNING:tensorflow:From C:\\Users\\T.sumanth\\AppData\\Local\\Programs\\Python\\Python310\\lib\\site-packages\\keras\\src\\engine\\base_layer_utils.py:384: The name tf.executing_eagerly_outside_functions is deprecated. Please use tf.compat.v1.executing_eagerly_outside_functions instead.\n",
      "\n",
      "3730/3730 [==============================] - 782s 207ms/step - loss: 0.1265 - accuracy: 0.9492 - val_loss: 0.1071 - val_accuracy: 0.9568\n",
      "Epoch 2/10\n",
      "3730/3730 [==============================] - 2357s 632ms/step - loss: 0.0918 - accuracy: 0.9629 - val_loss: 0.1031 - val_accuracy: 0.9586\n",
      "Epoch 3/10\n",
      "3730/3730 [==============================] - 7820s 2s/step - loss: 0.0810 - accuracy: 0.9666 - val_loss: 0.1019 - val_accuracy: 0.9600\n",
      "Epoch 4/10\n",
      "3730/3730 [==============================] - 1009s 270ms/step - loss: 0.0742 - accuracy: 0.9693 - val_loss: 0.1053 - val_accuracy: 0.9612\n",
      "Epoch 5/10\n",
      "3730/3730 [==============================] - 1417s 380ms/step - loss: 0.0680 - accuracy: 0.9717 - val_loss: 0.1078 - val_accuracy: 0.9597\n",
      "Epoch 6/10\n",
      "3730/3730 [==============================] - 1004s 269ms/step - loss: 0.0633 - accuracy: 0.9734 - val_loss: 0.1146 - val_accuracy: 0.9611\n",
      "Test loss: 0.10014369338750839 / Test accuracy: 0.9613035321235657\n"
     ]
    }
   ],
   "source": [
    "import pandas as pd\n",
    "import numpy as np\n",
    "import warnings\n",
    "from sklearn.model_selection import train_test_split\n",
    "from sklearn.preprocessing import LabelEncoder\n",
    "from keras.preprocessing.text import Tokenizer\n",
    "from keras.preprocessing.sequence import pad_sequences\n",
    "from keras.models import Sequential\n",
    "from keras.layers import Dense, LSTM, Bidirectional, Embedding, \n",
    "                        SpatialDropout1D, GRU\n",
    "from keras.callbacks import EarlyStopping\n",
    "url_data = pd.read_csv('https://raw.githubusercontent.com/testmail9440/\n",
    "                       PhishDump/main/Dataset_Phishdump.csv')\n",
    "url_data.columns = ['url', 'label']\n",
    "url_data = url_data.sample(frac=1).reset_index(drop=True)\n",
    "encoder = LabelEncoder()\n",
    "url_data['label'] = encoder.fit_transform(url_data['label'].astype(str))\n",
    "X_train, X_test, y_train, y_test = train_test_split(url_data['url'], \n",
    "                        url_data['label'], test_size=0.2, random_state=42)\n",
    "max_words = 10000\n",
    "max_len = 100\n",
    "tokenizer = Tokenizer(num_words=max_words, filters='!\"#$%&()*+,-./:;<=>?@[\\\\]^_`{|}')\n",
    "tokenizer.fit_on_texts(X_train)\n",
    "X_train_seq = tokenizer.texts_to_sequences(X_train)\n",
    "X_test_seq = tokenizer.texts_to_sequences(X_test)\n",
    "X_train_pad = pad_sequences(X_train_seq, maxlen=max_len)\n",
    "X_test_pad = pad_sequences(X_test_seq, maxlen=max_len)\n",
    "embedding_dim = 128\n",
    "lstm_units = 64\n",
    "gru_units = 64\n",
    "model = Sequential()\n",
    "model.add(Embedding(input_dim=max_words, output_dim=embedding_dim,\n",
    "                    input_length=max_len))\n",
    "model.add(SpatialDropout1D(0.2))\n",
    "model.add(Bidirectional(LSTM(lstm_units, return_sequences=True)))\n",
    "model.add(Bidirectional(GRU(gru_units)))\n",
    "model.add(Dense(1, activation='sigmoid'))\n",
    "model.compile(loss='binary_crossentropy', optimizer='adam', metrics=['accuracy'])\n",
    "early_stop = EarlyStopping(monitor='val_loss', patience=3, restore_best_weights=True)\n",
    "history = model.fit(X_train_pad, y_train, epochs=10, batch_size=64,\n",
    "                    validation_split=0.1, callbacks=[early_stop])\n",
    "score = model.evaluate(X_test_pad, y_test, verbose=0)\n",
    "print(f'Test loss: {score[0]} / Test accuracy: {score[1]}')\n",
    "warnings.filterwarnings(\"ignore\", category=FutureWarning)"
   ]
  }
 ],
 "metadata": {
  "kernelspec": {
   "display_name": "Python 3 (ipykernel)",
   "language": "python",
   "name": "python3"
  },
  "language_info": {
   "codemirror_mode": {
    "name": "ipython",
    "version": 3
   },
   "file_extension": ".py",
   "mimetype": "text/x-python",
   "name": "python",
   "nbconvert_exporter": "python",
   "pygments_lexer": "ipython3",
   "version": "3.10.7"
  }
 },
 "nbformat": 4,
 "nbformat_minor": 5
}
